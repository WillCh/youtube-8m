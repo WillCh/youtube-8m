{
 "cells": [
  {
   "cell_type": "code",
   "execution_count": 3,
   "metadata": {
    "collapsed": false
   },
   "outputs": [
    {
     "name": "stdout",
     "output_type": "stream",
     "text": [
      "1,10000_frame_level_train_download_plan.json\n",
      "1,1000_frame_level_train_download_plan.json\n",
      "1_frame_level_train_download_plan.json\n",
      "train0_.tfrecord\n",
      "train45.tfrecord\n",
      "train6l.tfrecord\n",
      "train8D.tfrecord\n",
      "trainbX.tfrecord\n",
      "trainDh.tfrecord\n",
      "trainEe.tfrecord\n",
      "trainHA.tfrecord\n",
      "trainjw.tfrecord\n",
      "trainkV.tfrecord\n",
      "trainr4.tfrecord\n",
      "trainR4.tfrecord\n",
      "trainUS.tfrecord\n",
      "trainUY.tfrecord\n",
      "trainVK.tfrecord\n",
      "trainWK.tfrecord\n",
      "\n"
     ]
    }
   ],
   "source": [
    "# This Python 3 environment comes with many helpful analytics libraries installed\n",
    "# It is defined by the kaggle/python docker image: https://github.com/kaggle/docker-python\n",
    "# For example, here's several helpful packages to load in \n",
    "\n",
    "import numpy as np # linear algebra\n",
    "import pandas as pd # data processing, CSV file I/O (e.g. pd.read_csv)\n",
    "\n",
    "# Input data files are available in the \"../input/\" directory.\n",
    "# For example, running this (by clicking run or pressing Shift+Enter) will list the files in the input directory\n",
    "\n",
    "# NOTICE: HERE YOU NEED TO CHANGE THE  '../frame_data' to the place you put the .tfrecord file.\n",
    "from subprocess import check_output\n",
    "print(check_output([\"ls\", \"../frame_data\"]).decode(\"utf8\"))\n"
   ]
  },
  {
   "cell_type": "code",
   "execution_count": 4,
   "metadata": {
    "collapsed": true
   },
   "outputs": [],
   "source": [
    "import tensorflow as tf\n",
    "from IPython.display import YouTubeVideo\n",
    "\n",
    "# NOTICE: HERE YOU NEED TO CHANGE THE two paths to the place you put the .tfrecord file.\n",
    "video_lvl_record = \"../features/train0_.tfrecord\"\n",
    "frame_lvl_record = \"../frame_data/train0_.tfrecord\""
   ]
  },
  {
   "cell_type": "code",
   "execution_count": 3,
   "metadata": {
    "collapsed": false
   },
   "outputs": [
    {
     "name": "stdout",
     "output_type": "stream",
     "text": [
      "../features/train0_.tfrecord\n"
     ]
    }
   ],
   "source": [
    "print video_lvl_record\n"
   ]
  },
  {
   "cell_type": "code",
   "execution_count": 4,
   "metadata": {
    "collapsed": false
   },
   "outputs": [],
   "source": [
    "vid_ids = []\n",
    "labels = []\n",
    "mean_rgb = []\n",
    "mean_audio = []\n",
    "\n",
    "for example in tf.python_io.tf_record_iterator(video_lvl_record):\n",
    "    tf_example = tf.train.Example.FromString(example)\n",
    "\n",
    "    vid_ids.append(tf_example.features.feature['video_id'].bytes_list.value[0].decode(encoding='UTF-8'))\n",
    "    labels.append(tf_example.features.feature['labels'].int64_list.value)\n",
    "    mean_rgb.append(tf_example.features.feature['mean_rgb'].float_list.value)\n",
    "    mean_audio.append(tf_example.features.feature['mean_audio'].float_list.value)"
   ]
  },
  {
   "cell_type": "code",
   "execution_count": 5,
   "metadata": {
    "collapsed": false
   },
   "outputs": [
    {
     "name": "stdout",
     "output_type": "stream",
     "text": [
      "('Number of videos in this tfrecord: ', 1230)\n",
      "('First video feature length', 1024)\n",
      "('First 20 features of the first youtube video (', u'0_eSi7CwB-4', ')')\n",
      "[-0.7036563754081726, 0.38342997431755066, 1.7236982583999634, 0.48541828989982605, 0.9511630535125732, -0.09970728307962418, 0.19943273067474365, -0.258606493473053, -0.45884039998054504, -0.9229339957237244, 0.18374645709991455, 0.002391103422269225, -0.8100478649139404, -0.08281013369560242, -0.17648746073246002, -0.20593363046646118, 0.7639734745025635, -0.5236769914627075, 0.843615710735321, 0.022755740210413933]\n"
     ]
    }
   ],
   "source": [
    "print('Number of videos in this tfrecord: ',len(mean_rgb))\n",
    "print('First video feature length',len(mean_rgb[0]))\n",
    "print('First 20 features of the first youtube video (',vid_ids[0],')')\n",
    "print(mean_rgb[0][:20])"
   ]
  },
  {
   "cell_type": "code",
   "execution_count": 9,
   "metadata": {
    "collapsed": false
   },
   "outputs": [
    {
     "data": {
      "text/html": [
       "\n",
       "        <iframe\n",
       "            width=\"400\"\n",
       "            height=\"300\"\n",
       "            src=\"https://www.youtube.com/embed/0_beJkpoWec\"\n",
       "            frameborder=\"0\"\n",
       "            allowfullscreen\n",
       "        ></iframe>\n",
       "        "
      ],
      "text/plain": [
       "<IPython.lib.display.YouTubeVideo at 0x7f8044027b10>"
      ]
     },
     "execution_count": 9,
     "metadata": {},
     "output_type": "execute_result"
    }
   ],
   "source": [
    "def play_one_vid(record_name, video_index):\n",
    "    return vid_ids[video_index]\n",
    "    \n",
    "# this worked on my local jupyter notebook, but doesn't show on kaggle kernels:\n",
    "YouTubeVideo(play_one_vid(video_lvl_record, 7))"
   ]
  },
  {
   "cell_type": "code",
   "execution_count": 29,
   "metadata": {
    "collapsed": false
   },
   "outputs": [],
   "source": [
    "# now, let's read the frame-level data\n",
    "\n",
    "feat_rgb = []\n",
    "feat_audio = []\n",
    "\n",
    "\n",
    "for example in tf.python_io.tf_record_iterator(frame_lvl_record):        \n",
    "    tf_seq_example = tf.train.SequenceExample.FromString(example)\n",
    "    n_frames = len(tf_seq_example.feature_lists.feature_list['audio'].feature)\n",
    "    # print tf_seq_example\n",
    "   \n",
    "    sess = tf.InteractiveSession()\n",
    "    rgb_frame = []\n",
    "    audio_frame = []\n",
    "    # find the vid of the video\n",
    "    seq_vid = tf_seq_example.context.feature['video_id'].bytes_list.value[0].decode(encoding='UTF-8')\n",
    "    # print tf_seq_example\n",
    "    # iterate through frames\n",
    "    for i in range(n_frames):\n",
    "        rgb_frame.append(tf.cast(tf.decode_raw(\n",
    "                tf_seq_example.feature_lists.feature_list['rgb'].feature[i].bytes_list.value[0],tf.uint8)\n",
    "                       ,tf.float32).eval())\n",
    "       \n",
    "         \"\"\"\n",
    "        audio_frame.append(tf.cast(tf.decode_raw(\n",
    "                tf_seq_example.feature_lists.feature_list['audio'].feature[i].bytes_list.value[0],tf.uint8)\n",
    "                       ,tf.float32).eval())\n",
    "                                              \n",
    "        \"\"\"\n",
    "        \n",
    "        \n",
    "    sess.close()\n",
    "    feat_rgb.append(rgb_frame)\n",
    "    feat_audio.append(audio_frame)\n",
    "    break\n",
    "\n"
   ]
  },
  {
   "cell_type": "code",
   "execution_count": 43,
   "metadata": {
    "collapsed": false
   },
   "outputs": [
    {
     "name": "stdout",
     "output_type": "stream",
     "text": [
      "6.11\n"
     ]
    }
   ],
   "source": [
    "\n",
    "feat_rgb = []\n",
    "feat_audio = []\n",
    "from time import time\n",
    "\n",
    "def test():\n",
    "    for example in tf.python_io.tf_record_iterator(frame_lvl_record):        \n",
    "        tf_seq_example = tf.train.SequenceExample.FromString(example)\n",
    "        n_frames = len(tf_seq_example.feature_lists.feature_list['audio'].feature)\n",
    "        tf_feat_list = tf_seq_example.feature_lists.feature_list['rgb']\n",
    "        # print tf_seq_example\n",
    "\n",
    "        rgb_frame = tf.Variable(tf.zeros([n_frame, 1024]))\n",
    "\n",
    "        for i in range(n_frames):\n",
    "            rgb_frame = tf.scatter_update(rgb_frame, tf.constant(i, dtype=tf.int32),tf.cast(tf.decode_raw(\n",
    "                        tf_feat_list.feature[i].bytes_list.value[0],tf.uint8),tf.float32))\n",
    "        with tf.Session() as sess:\n",
    "            tf.global_variables_initializer().run()\n",
    "            rgb_frame_py = sess.run([rgb_frame])\n",
    "\n",
    "        break\n",
    "\n",
    "st = time()\n",
    "test()\n",
    "print(\"%.2f\"%(time()-st))"
   ]
  },
  {
   "cell_type": "code",
   "execution_count": 33,
   "metadata": {
    "collapsed": false
   },
   "outputs": [
    {
     "data": {
      "text/plain": [
       "<tf.Tensor 'DecodeRaw_2634:0' shape=(?,) dtype=uint8>"
      ]
     },
     "execution_count": 33,
     "metadata": {},
     "output_type": "execute_result"
    }
   ],
   "source": [
    "rgb_frame[0]"
   ]
  },
  {
   "cell_type": "code",
   "execution_count": 27,
   "metadata": {
    "collapsed": false
   },
   "outputs": [
    {
     "name": "stdout",
     "output_type": "stream",
     "text": [
      "The first video has 285 frames\n",
      "0_eSi7CwB-4\n"
     ]
    }
   ],
   "source": [
    "print('The first video has %d frames' %len(feat_rgb[0]))\n",
    "n_frame = len(feat_rgb[0])\n",
    "print seq_vid"
   ]
  },
  {
   "cell_type": "code",
   "execution_count": 53,
   "metadata": {
    "collapsed": false
   },
   "outputs": [
    {
     "data": {
      "text/html": [
       "\n",
       "        <iframe\n",
       "            width=\"400\"\n",
       "            height=\"300\"\n",
       "            src=\"https://www.youtube.com/embed/0_eSi7CwB-4\"\n",
       "            frameborder=\"0\"\n",
       "            allowfullscreen\n",
       "        ></iframe>\n",
       "        "
      ],
      "text/plain": [
       "<IPython.lib.display.YouTubeVideo at 0x7f800ea72dd0>"
      ]
     },
     "execution_count": 53,
     "metadata": {},
     "output_type": "execute_result"
    }
   ],
   "source": [
    "YouTubeVideo(seq_vid)"
   ]
  },
  {
   "cell_type": "code",
   "execution_count": 5,
   "metadata": {
    "collapsed": false
   },
   "outputs": [],
   "source": [
    "from sklearn.cluster import KMeans\n",
    "from sklearn.datasets import make_blobs"
   ]
  },
  {
   "cell_type": "code",
   "execution_count": 20,
   "metadata": {
    "collapsed": false
   },
   "outputs": [
    {
     "name": "stdout",
     "output_type": "stream",
     "text": [
      "[   0.   79.  167. ...,  131.  126.  128.]\n",
      "[   0.   79.  167. ...,  131.  126.  128.]\n"
     ]
    }
   ],
   "source": [
    "y = 0;\n",
    "for x in rgb_frame:\n",
    "    if y == 0:\n",
    "        print x\n",
    "        y+=1\n",
    "print rgb_frame[0]"
   ]
  },
  {
   "cell_type": "code",
   "execution_count": 21,
   "metadata": {
    "collapsed": false
   },
   "outputs": [],
   "source": [
    "# Reshape the frame feature\n",
    "X = np.zeros([n_frame, 1024])\n",
    "for i in xrange(n_frame):\n",
    "    X[i,:] = feat_rgb[0][i]\n"
   ]
  },
  {
   "cell_type": "code",
   "execution_count": 22,
   "metadata": {
    "collapsed": false
   },
   "outputs": [],
   "source": [
    "kmeans = KMeans(n_clusters=10, random_state=0).fit(X)"
   ]
  },
  {
   "cell_type": "code",
   "execution_count": 23,
   "metadata": {
    "collapsed": false
   },
   "outputs": [
    {
     "data": {
      "text/plain": [
       "array([6, 6, 6, 6, 6, 9, 0, 6, 5, 2, 2, 6, 6, 2, 2, 2, 3, 3, 2, 2, 2, 5, 5,\n",
       "       2, 4, 7, 7, 7, 5, 0, 0, 0, 0, 5, 2, 4, 7, 7, 7, 1, 1, 1, 1, 7, 7, 3,\n",
       "       3, 8, 6, 3, 8, 6, 3, 4, 8, 6, 8, 4, 4, 4, 1, 8, 1, 1, 3, 3, 1, 5, 4,\n",
       "       4, 4, 5, 5, 6, 5, 6, 3, 4, 5, 4, 8, 4, 4, 6, 1, 6, 4, 3, 3, 3, 5, 5,\n",
       "       5, 5, 5, 3, 5, 5, 5, 8, 4, 5, 6, 4, 6, 5, 9, 5, 9, 6, 3, 6, 6, 6, 6,\n",
       "       1, 6, 4, 4, 4, 4, 5, 5, 5, 4, 5, 6, 6, 5, 3, 5, 5, 3, 5, 3, 6, 6, 6,\n",
       "       6, 6, 5, 6, 4, 6, 4, 4, 4, 6, 6, 6, 6, 6, 6, 4, 4, 0, 0, 6, 4, 4, 0,\n",
       "       6, 4, 4, 9, 9, 4, 9, 2, 6, 6, 9, 2, 6, 2, 2, 6, 6, 6, 6, 6, 2, 6, 2,\n",
       "       1, 1, 1, 1, 1, 1, 6, 9, 6, 1, 1, 2, 2, 8, 2, 2, 8, 2, 6, 2, 8, 8, 2,\n",
       "       2, 2, 8, 4, 4, 2, 9, 9, 0, 5, 9, 9, 6, 6, 5, 4, 6, 6, 6, 6, 5, 6, 4,\n",
       "       9, 6, 5, 9, 9, 9, 4, 9, 4, 9, 6, 6, 9, 9, 9, 2, 9, 6, 2, 2, 2, 2, 6,\n",
       "       9, 9, 2, 2, 2, 2, 2, 2, 2, 2, 8, 8, 8, 2, 2, 2, 2, 2, 2, 2, 2, 2, 2,\n",
       "       2, 2, 2, 2, 2, 6, 6, 6, 6], dtype=int32)"
      ]
     },
     "execution_count": 23,
     "metadata": {},
     "output_type": "execute_result"
    }
   ],
   "source": [
    "kmeans.labels_"
   ]
  },
  {
   "cell_type": "code",
   "execution_count": 41,
   "metadata": {
    "collapsed": true
   },
   "outputs": [],
   "source": [
    "# Try gassuian mix\n",
    "from sklearn import mixture\n"
   ]
  },
  {
   "cell_type": "code",
   "execution_count": 69,
   "metadata": {
    "collapsed": false
   },
   "outputs": [
    {
     "name": "stdout",
     "output_type": "stream",
     "text": [
      "[6 6 6 0 6 5 5 5 5 2 2 6 6 2 2 2 7 3 2 2 2 4 4 2 2 3 3 3 5 5 5 5 5 5 2 2 3\n",
      " 3 3 9 9 9 9 3 3 7 7 7 4 7 7 6 7 2 6 4 7 2 2 2 9 7 9 9 7 7 9 6 2 2 2 6 4 6\n",
      " 1 4 7 2 4 2 7 2 2 6 6 4 2 7 7 7 4 4 4 4 4 7 4 5 5 7 2 4 6 2 6 5 5 5 5 6 7\n",
      " 6 4 4 4 6 6 2 2 2 2 4 4 4 8 5 6 6 4 7 4 4 7 4 7 4 4 1 1 6 4 4 8 4 8 8 8 4\n",
      " 4 4 6 6 1 8 8 5 5 6 8 8 5 4 8 8 5 5 8 5 2 4 4 5 2 6 2 2 6 6 6 6 6 2 6 2 9\n",
      " 9 9 9 9 9 6 6 6 9 9 2 2 7 2 2 6 2 6 2 6 6 2 2 2 7 2 2 2 5 5 5 5 5 5 4 4 5\n",
      " 8 4 4 4 6 4 1 8 5 1 4 5 5 5 8 5 2 5 6 6 5 5 5 2 5 6 2 2 2 2 6 5 5 2 2 2 2\n",
      " 2 2 2 2 6 6 6 2 2 2 2 2 2 2 2 2 2 2 2 2 2 2 6 0 0 0]\n"
     ]
    }
   ],
   "source": [
    "clf = mixture.GaussianMixture(n_components=10, covariance_type='full', max_iter=500, init_params='kmeans')\n",
    "clf.fit(X)\n",
    "clf_lables = clf.predict(X)\n",
    "print clf_lables"
   ]
  },
  {
   "cell_type": "code",
   "execution_count": 76,
   "metadata": {
    "collapsed": false
   },
   "outputs": [
    {
     "data": {
      "image/png": "[encoded data removed]",
      "text/plain": [
       "<matplotlib.figure.Figure at 0x7f7fd0c2c7d0>"
      ]
     },
     "metadata": {},
     "output_type": "display_data"
    }
   ],
   "source": [
    "import matplotlib.pyplot as plt\n",
    "%matplotlib inline\n",
    "plt.plot(X[20,:])\n",
    "plt.plot(X[0,:])\n",
    "plt.plot(X[3,:])\n",
    "\n",
    "plt.show()"
   ]
  },
  {
   "cell_type": "code",
   "execution_count": 82,
   "metadata": {
    "collapsed": true
   },
   "outputs": [],
   "source": [
    "# TRY cos similarity to compute the difference betwe two consequce video frame.\n",
    "def cosSimlarity(a, b):\n",
    "    c = sum(a*b)\n",
    "    return c / sum(a*a)**0.5 / sum(b*b)**0.5\n"
   ]
  },
  {
   "cell_type": "code",
   "execution_count": 85,
   "metadata": {
    "collapsed": false
   },
   "outputs": [
    {
     "name": "stdout",
     "output_type": "stream",
     "text": [
      "[0.87162576973759454, 0.78663328965269519, 0.80441022632737524, 0.79239312014365659, 0.80131192450552868, 0.87142020140868093, 0.88506809738907588, 0.89193966726366769, 0.84221580737572199, 0.97474288803490894, 0.79142810666082408, 0.87702427204429567, 0.79797986627497286, 0.98960316774446644, 0.98699506670157722, 0.83092680309629918, 0.92310034790051965, 0.83383931315728321, 0.98817616699786026, 0.97504740746413343, 0.8092345575854295, 0.89017134121026065, 0.85984812953614242, 0.98357614168015695, 0.82191221342281828, 0.93756555609939829, 0.9483913889152068, 0.83205482729834912, 0.91752240511814631, 0.90411848988124832, 0.88727372190582954, 0.92866333730514239, 0.90057419492190793, 0.83259249459847495, 0.98113532372167322, 0.82693306608697947, 0.95358895842479585, 0.94461811187620692, 0.81278753200893172, 0.9399777262133493, 0.94472329139858413, 0.92536848114733383, 0.80085664501006171, 0.94446369326850044, 0.84939757530882132, 0.92304920264407964, 0.85706361525231634, 0.80266109153583165, 0.78913587729792434, 0.79812228316056466, 0.82834123089810208, 0.8206307958385286, 0.82119229878600086, 0.79076673965545208, 0.83666562638498054, 0.8019296418671481, 0.79896697929868066, 0.97666341230470466, 0.97962146709076758, 0.82631485719146713, 0.78469947030662601, 0.78737210497686039, 0.91862099140927389, 0.80985991031977644, 0.93692871373399245, 0.83030695255271048, 0.89282658203723853, 0.83263454566430317, 0.98818070037168237, 0.98441708216414014, 0.81515863690374724, 0.89004561460258247, 0.86072681536932838, 0.85463365805172753, 0.86420071321773528, 0.78573254533444625, 0.81033128382128672, 0.82323117255632794, 0.8118661538581704, 0.78057795488314174, 0.77425138719705466, 0.97654290848954339, 0.8675992592938605, 0.95840949909982953, 0.88994450328405117, 0.85003789273397812, 0.83960939628254805, 0.95640828820970614, 0.94876419942638068, 0.79748913015320144, 0.87895848398821108, 0.91635275818826256, 0.89768576782814358, 0.88463340799659129, 0.79831613890463593, 0.78238299379451215, 0.86065482858960363, 0.94266056491076422, 0.78369745326685425, 0.78762853656959408, 0.836872380532097, 0.82435669475818463, 0.80820750179073009, 0.78798680593248049, 0.79652705263085422, 0.90246413381281076, 0.88633327863007161, 0.90053528513064618, 0.88410973935494874, 0.84337690204031102, 0.77975197125422668, 0.81911368123547701, 0.90945238133869388, 0.82341461913740943, 0.83406748597165992, 0.9009567488108482, 0.8634925935030745, 0.97420953567342838, 0.97567576186375682, 0.97437924361355854, 0.82341898203716546, 0.91803826510386222, 0.91712968020562324, 0.84533758450065499, 0.85903744364654688, 0.84801869449793965, 0.89640481332671629, 0.85425848920749581, 0.82355546205632923, 0.82996863210114724, 0.89982160614205453, 0.81304866323211089, 0.82858643903177309, 0.8253797754449389, 0.81367320853939862, 0.87882942277121956, 0.80372290664557111, 0.87894310661518082, 0.84209445653123383, 0.86895116952918972, 0.84710933920422815, 0.83867145914611851, 0.78628196408052531, 0.79118005989434759, 0.96459175022735411, 0.96576263329673506, 0.85285127192720867, 0.96587580325226796, 0.96280101475323498, 0.86198820346889871, 0.84614571312942588, 0.80900983253106473, 0.82096910743201568, 0.97650417769175257, 0.83892112310949774, 0.88894313051092544, 0.86634558385872751, 0.82809266673390425, 0.98082375886469797, 0.8428345231303378, 0.84106812705017708, 0.82979198660755316, 0.95049610996670886, 0.84110511906926966, 0.94306181750991047, 0.82925952806524283, 0.8314057228128352, 0.83151658948071194, 0.86308798583671331, 0.96408724738403395, 0.88394303600304114, 0.83459143522766044, 0.80194562815407811, 0.81493688746066684, 0.98421056494328807, 0.81963455203307722, 0.84875995001156768, 0.86988902786554689, 0.95711789437943051, 0.92711727014473844, 0.90027211790036321, 0.87039712258409996, 0.8615933944078481, 0.84191988456403644, 0.924666527530007, 0.91128616295829434, 0.92783366685036228, 0.90043519626085711, 0.91144333047546877, 0.85098811900281979, 0.921080943913961, 0.91243570479298708, 0.85767151809250208, 0.8894283261475272, 0.83943609072895409, 0.98714393718047566, 0.79536296797860973, 0.81289345714986294, 0.97641104687558788, 0.82103879251352663, 0.83246488773025573, 0.84980384781697516, 0.86147005618780126, 0.82427369750998447, 0.91584337261097781, 0.79244124210644407, 0.97647609762326992, 0.98475112112513219, 0.80911309103684315, 0.82268759954131387, 0.98024461244866556, 0.96635403702313438, 0.83874016298799825, 0.90005689705158276, 0.92337970636643807, 0.83594484883469511, 0.84571719442678472, 0.92945043413153472, 0.86752807316957392, 0.94491924609813327, 0.88427435768219331, 0.84975576088058413, 0.81036891402035716, 0.86397250229152522, 0.88192196487888697, 0.95284429624037315, 0.87974811298641797, 0.86082408531136934, 0.855270401998801, 0.85161722433106823, 0.85819361759589197, 0.89541005141566332, 0.85862530880020205, 0.89098649849924416, 0.89549793036227565, 0.85104925616643223, 0.84389485221205252, 0.81490139490051539, 0.82466313288358772, 0.85791512153154081, 0.91745936976822695, 0.8472521567877962, 0.96252727047217035, 0.8944726578963903, 0.82168044897811654, 0.83824715004163286, 0.84304758460138374, 0.8286084787627086, 0.9833803474507905, 0.96430486525538373, 0.98141309923673214, 0.82360550614429329, 0.8535337404224671, 0.93372821034142905, 0.8015600624104553, 0.97743427117865178, 0.97535943159702609, 0.97624704985196009, 0.97835346287167235, 0.98551610794771893, 0.98173692579772087, 0.9812334500446287, 0.80012043089462737, 0.9478012615563528, 0.95159605701808736, 0.80935430059344604, 0.98736229853874258, 0.98652151964477652, 0.98623742832669148, 0.98353971859657641, 0.98283631516130443, 0.98075144098481803, 0.97582386591836412, 0.97760320074794416, 0.982424919882944, 0.97605625095287407, 0.97181240785656953, 0.97462205826641612, 0.9862296047595529, 0.98230244571442704, 0.77261930742361873, 0.79253674997877721, 0.84342653088166064, 0.97403173961911671]\n",
      "[1, 3, 10, 12, 48, 49, 53, 56, 60, 61, 75, 79, 80, 89, 94, 95, 98, 99, 103, 104, 110, 142, 143, 196, 205, 280, 281]\n"
     ]
    },
    {
     "data": {
      "image/png": "[encoded data removed]",
      "text/plain": [
       "<matplotlib.figure.Figure at 0x7f7fd091d810>"
      ]
     },
     "metadata": {},
     "output_type": "display_data"
    }
   ],
   "source": [
    "cos_1 = []\n",
    "abrupt_frame_index = []\n",
    "threshold = 0.8\n",
    "for i in xrange(n_frame-1):\n",
    "    cos = cosSimlarity(X[i,:], X[i+1,:])\n",
    "    cos_1.append(cos)\n",
    "    if cos < threshold:\n",
    "        abrupt_frame_index.append(i)\n",
    "plt.plot(cos_1)\n",
    "print cos_1\n",
    "print abrupt_frame_index"
   ]
  },
  {
   "cell_type": "code",
   "execution_count": 15,
   "metadata": {
    "collapsed": false
   },
   "outputs": [],
   "source": [
    "def GetFrameId(rgb_frame, num_classes = 10):\n",
    "    \"\"\"\n",
    "    input arg: rgb_frame: the list of 1D array of the rgb frame features\n",
    "    return a 1D array with id of each extracted features.\n",
    "    This function need to from sklearn.cluster import KMeans. \n",
    "    \"\"\"\n",
    "    # convert the rgb_frame data to 2D array\n",
    "    n_frame = len(rgb_frame)\n",
    "    n_dim = len(rgb_frame[0])\n",
    "    X = np.zeros([n_frame, n_dim])\n",
    "    for i in xrange(n_frame):\n",
    "        X[i,:] = rgb_frame[i]\n",
    "    kmeans = KMeans(n_clusters=num_classes, random_state=0).fit(X)\n",
    "    # here just obtain the frame by order (i.e. if the kmeans results is 3412333344, we will return\n",
    "    # 0, 1, 2, 3 )\n",
    "    res = []\n",
    "    read_dict = []\n",
    "    for i in xrange(len(kmeans.labels_)):\n",
    "        label = kmeans.labels_[i]\n",
    "        if label not in read_dict:\n",
    "            res.append(i)\n",
    "            read_dict.append(label)\n",
    "            if len(res) == num_classes:\n",
    "                return res\n",
    "    \n",
    "def CopyByFrameId(frame_feature_file_path, frame_feature_des_path, n_max_write = 2):\n",
    "    \"\"\"\n",
    "    frame_feature_file_path: a string represents the path to a file which stores the frame level features.\n",
    "    return bool which represents storage is successful or not.\n",
    "    \"\"\"\n",
    "    n_read_file = 0\n",
    "    writer = tf.python_io.TFRecordWriter(frame_feature_des_path)\n",
    "    for example in tf.python_io.tf_record_iterator(frame_feature_file_path):        \n",
    "        tf_seq_example = tf.train.SequenceExample.FromString(example)\n",
    "        sess = tf.InteractiveSession()\n",
    "        rgb_frame = []\n",
    "        n_frames = len(tf_seq_example.feature_lists.feature_list['audio'].feature)\n",
    "        # find the vid of the video\n",
    "        # iterate through frames\n",
    "        for i in range(n_frames):\n",
    "            rgb_frame.append(tf.cast(tf.decode_raw(\n",
    "                    tf_seq_example.feature_lists.feature_list['rgb'].feature[i].bytes_list.value[0],tf.uint8)\n",
    "                           ,tf.float32).eval())\n",
    "\n",
    "        sess.close()        \n",
    "        extracted_id = GetFrameId(rgb_frame, 2)   \n",
    "        new_frame_data = tf.train.SequenceExample()\n",
    "        new_frame_data.context.CopyFrom(tf_seq_example.context)\n",
    "        # iterate through frames\n",
    "        for i in extracted_id:\n",
    "            new_frame_data.feature_lists.feature_list['rgb'].feature.extend(\n",
    "                [tf_seq_example.feature_lists.feature_list['rgb'].feature[i]])\n",
    "        \n",
    "        # Write to the des.\n",
    "        writer.write(new_frame_data.SerializeToString())\n",
    "        if (n_max_write > 0):\n",
    "            n_read_file += 1\n",
    "            if (n_read_file >= n_max_write):\n",
    "                break\n",
    "    writer.close()"
   ]
  },
  {
   "cell_type": "code",
   "execution_count": 48,
   "metadata": {
    "collapsed": false
   },
   "outputs": [
    {
     "data": {
      "text/plain": [
       "'../frame_data/train0_.tfrecord'"
      ]
     },
     "execution_count": 48,
     "metadata": {},
     "output_type": "execute_result"
    }
   ],
   "source": [
    "frame_lvl_record"
   ]
  },
  {
   "cell_type": "code",
   "execution_count": 16,
   "metadata": {
    "collapsed": false
   },
   "outputs": [],
   "source": [
    "fram_des = '../frame_changed_data/train0_.tfrecord'\n",
    "CopyByFrameId(frame_lvl_record, fram_des, 2)"
   ]
  },
  {
   "cell_type": "code",
   "execution_count": 17,
   "metadata": {
    "collapsed": false
   },
   "outputs": [
    {
     "name": "stdout",
     "output_type": "stream",
     "text": [
      "context {\n",
      "  feature {\n",
      "    key: \"labels\"\n",
      "    value {\n",
      "      int64_list {\n",
      "        value: 16\n",
      "        value: 9\n",
      "        value: 3\n",
      "        value: 7\n",
      "      }\n",
      "    }\n",
      "  }\n",
      "  feature {\n",
      "    key: \"video_id\"\n",
      "    value {\n",
      "      bytes_list {\n",
      "        value: \"0_eSi7CwB-4\"\n",
      "      }\n",
      "    }\n",
      "  }\n",
      "}\n",
      "feature_lists {\n",
      "  feature_list {\n",
      "    key: \"rgb\"\n",
      "    value {\n",
      "      feature {\n",
      "        bytes_list {\n",
      "          value: \"\\000O\\247+\\000\\000/!\\310\\205\\316V#\\237\\223\\320?\\222L\\377Z\\320\\264\\211\\210\\t\\272\\216.wp\\271|O\\204\\\\t\\331h>\\211\\222\\214\\304|z\\246\\227\\271r\\275\\220\\223;Kv\\227o\\210pVo\\240[lb\\260\\232ed\\224zg{rD\\253\\214s\\221j\\203\\255\\203_s\\263\\213_q\\276Ju\\244\\210o\\247\\201T\\225\\226~\\241\\231\\217\\246\\213W\\244\\242\\203\\217\\177\\205\\222o\\177ku\\247q]\\235\\204\\200\\210\\214\\222\\221t\\253\\207\\264juZg\\260\\233\\223\\217hup\\210\\223\\226S_Qc\\204\\230{`\\177\\234\\207fS~\\204\\200l\\240\\201\\206ak\\213\\234ad\\205\\230\\235\\232eg\\201bl\\236\\301\\206s\\217\\211\\215txix\\210~t\\253ipxun\\204\\221Zy\\221\\230Nw\\210\\233\\215\\203s\\215|\\202\\201q\\211n\\210\\227q~\\215\\200\\207m\\247\\217\\212d\\206|\\221zv\\177j{s\\241sav\\231\\221\\225m{jkvnjm\\204\\251\\210}\\216\\231tQ\\211^\\206\\210x\\230qt\\213\\204\\233uy\\214\\206`e\\204\\205_\\177a\\254\\177q\\210c|l\\224r\\236y\\223\\203pz\\233\\207\\226k\\211\\207t\\217Wl\\230\\212\\213ym\\217x\\210\\177q\\227v\\211s\\231\\204\\215\\177|uu\\226\\205x\\233\\216\\232mF\\211r\\201\\235\\217\\204x\\202p\\203|\\200\\202\\201\\213\\177\\224\\207\\222\\221ya\\222ju\\222x\\207\\201\\205\\221\\203\\213\\235Y~\\205r\\206\\210\\220s\\227_p\\223t\\215Zr\\203\\177ih\\234\\200\\213\\211\\204\\234\\240\\212|\\223\\204\\210\\204y\\220m\\212ozdq\\210\\223\\227\\212V~hq\\177yyi\\203\\262\\201\\207|\\213\\210qbz\\177\\223\\215\\207\\214\\200yTt\\216\\216\\214\\214v\\211Usiq\\205t}r\\206\\203|}\\201}\\207]v\\234ev\\\\txqjzQ\\177\\222\\212\\177\\226\\177x\\207{qf\\246|u}\\227\\227T\\226o\\215yp\\206\\234phk\\204\\217b\\202\\217\\214\\237\\205sku\\210~\\213\\223\\225\\213j\\214}\\214\\216m\\207\\211\\204\\236\\214\\217\\214~\\252phx\\207\\210b\\177\\236\\220v\\213pjrg\\221twoXvyz\\200\\212va\\211\\211\\222h\\211p\\232\\202o~\\230\\214~\\215\\217~\\210\\226\\212\\221~g\\227x\\177\\200xt\\217\\214_m\\234\\203f\\227vu\\205\\216jwz\\201lw\\177\\210\\205\\215\\224hi\\204\\223\\220\\224s\\203\\213}u\\200\\210\\227\\227\\217\\206\\202~\\205\\177\\217y\\212v\\215bw\\210\\200\\221|qk\\234\\204}}\\211p\\221\\177|\\204\\216\\244\\201ayt\\203\\202{\\204uenworxi_\\210\\224\\201F\\221iq\\204{nb|x\\224b\\214\\210[\\204ul~\\233Zbr\\210\\201\\212\\211{\\230\\204^\\213\\177\\213x\\\\\\222\\177\\212\\243\\177~\\201~l\\222}{q\\234\\205pw\\237yl\\201\\224[rte\\205\\206\\177jyoqty\\222\\202\\200\\204\\207\\223\\202y\\235p\\227\\217p\\224\\215yp\\225x\\215}\\243i\\203\\210\\212\\222\\214\\207\\232\\216t{\\204k\\214l{fg}\\233\\200ttm~\\231\\215{\\233\\201\\240\\211\\240^tv\\206\\213||o\\222\\200\\210\\221\\211t\\202}bep{g\\215\\220\\213|\\216z\\227\\207S{\\201f}\\230m\\242\\207\\204w\\202\\217\\205\\206\\177\\212\\216c\\201d\\210\\211i\\\\kYzj\\220f\\215|v~avven\\225\\223\\202~yq~~T\\226\\205m\\227t\\207op\\212ysm\\215\\232\\226~\\210v\\217v\\233\\221w\\202v\\205~n\\200\\237u\\200{bk\\205\\213\\207r\\202\\205\\226\\212\\201|\\207x\\206\\235ep\\206s\\202q\\202\\225\\212zy\\215p\\206\\200\\207z\\211i\\225o\\213{hx\\237j\\211y\\202\\246\\207\\231~\\235y\\232~r\\217\\216vr|}\\227w~s\\212\\217lz\\205\\205zU\\225z\\233tu\\222yq\\201\\204}\\236\\215q\\207~u\\222\\206\\207\\177\\202\\216ykp\\203~\\200\"\n",
      "        }\n",
      "      }\n",
      "      feature {\n",
      "        bytes_list {\n",
      "          value: \"\\025\\212\\352\\360\\377i\\266]\\2647\\224]\\004c\\253c\\2643\\377\\215f]}\\273\\200\\250\\357A?\\300\\207\\275y\\023L\\215A\\217\\212\\270AP|4z\\2053\\211Ze\\210eyvYh\\345Y\\243P\\224\\346\\2033\\244\\300\\212b\\307{\\\\>Q\\311x\\245\\000j}\\263\\242\\310\\201\\214S>E\\236z\\313\\332\\265]S\\311\\215zWA\\305z0\\272\\240\\223C\\335zi;MJX\\222u\\350\\233y\\221\\007\\257$\\335,\\342?\\036\\020W\\'E\\262U(\\\\\\255o8Q\\213w\\\\\\365f\\326\\021\\246\\255N,}\\342G\\336\\036\\341\\007\\234_\\205\\247\\262\\377\\206\\271\\352Z\\255Ot\\3400a\\333}?\\226j\\256\\242z[*x\\225\\204eF\\213\\377RfBu\\027\\317\\313/0\\300sD\\224\\204\\275\\323Rf\\363\\255=\\234\\304V\\327w\\264o1\\212I\\302]zb\\215<r4)\\307jchfD\\243R\\201so\\252xn\\031\\214&g*,\\230qE\\262\\222\\177\\250CDzS\\327\\304\\220\\253\\232\\215\\027\\200\\226Uj\\340\\267\\207\\200\\336\\332\\377V\\251tk7\\321\\\"\\327e\\202Y\\200hnHw\\253\\270\\224\\200vMe\\027\\307v\\206]\\235\\233\\261$+\\221\\235^bc\\310v\\210\\332\\246\\224l/\\236\\240\\263Mj\\270v\\210H\\255\\262\\222\\251\\000\\234<l)Y\\262\\232\\315f\\010\\242s\\205Z\\243\\264}\\2446\\221\\262_\\037s]\\320\\255\\221o\\210\\256c\\351PsLK^Z\\202\\211oi0/\\257\\235\\222r[\\212|\\363\\300mt<\\200\\304\\224\\024\\226\\237\\301^3\\211\\242\\322\\2159}\\241y\\262\\272,osxZZWF\\212x\\214\\264\\236\\277K\\250\\233\\237\\311\\274}\\251\\326\\221L\\2037\\200\\022KwQ\\313\\215w\\236\\204^y;qg\\305\\225D\\214lc;\\235i^7\\177L\\270\\250\\215Y\\341\\331\\202OJ\\313~|XajlW\\204\\270tS\\203j\\202\\255\\2634pS|x`\\237s>t\\205\\263y\\334L\\302\\266\\266;\\277\\021\\222^\\262,\\241+\\363J\\322\\265[9\\257L\\315=l;\\3778\\232\\242v,fLWp\\212\\343\\300>hQy\\247y.\\201;\\270\\316\\206\\232\\267E]\\235N\\2716k\\247s-\\243>_\\241\\274\\220z\\377\\262\\220|\\356q\\271H\\263\\323\\000\\247\\253\\377>OR\\337_\\223\\032\\216>\\031\\267\\306x`\\262L\\235\\000}\\245p\\377\\211\\316P\\027\\343\\241G\\311\\1772\\231\\377\\377\\230\\204tj\\240\\277Um`k\\225ad\\210\\252s\\202\\036\\377\\251_\\023]\\000R\\225\\205\\220\\242m\\266\\266\\270DP\\212\\3007\\224\\365\\021OD\\251\\233du]\\253\\231\\275ye\\243\\377\\000+\\200|c\\263\\240|\\216X\\241\\331\\2715RtH`\\201\\210s\\204ZJ\\366\\035Zh(\\t\\037Z\\213\\213w\\203\\242\\302p\\215z[\\241<H\\274\\215Y=\\177\\206e\\234\\000VY8\\230\\221\\246\\377\\210D\\211}\\274\\316\\036\\303X\\321\\261:\\252\\203\\2053\\205\\217\\201?TX\\221\\210@\\220ip[}\\323\\226*o\\210=\\225M\\222\\316TC{k\\243\\205\\307o\\000\\264b@B\\233\\213\\\\\\331D\\317\\371\\220~\\230\\206\\220\\217|j\\241F\\371g\\200}d\\302\\214\\201\\350Yo`P\\206\\247\\230U\\250fe\\000\\2208\\251I\\225S]\\307Ho\\220\\254\\247B\\212\\257\\230x\\315D\\307\\265\\177{+\\270\\276\\303\\242\\237\\336\\177\\273\\245\\273z\\237+\\207\\271\\023\\273{\\244dg\\255\\277@4b\\214\\263W]7\\000*\\224q}\\221a\\316\\312\\000\\025\\303\\331B\\000\\265u.\\262X^V2\\243c\\253E\\254V\\325\\240\\201Y\\241\\306E]\\2056Re\\240\\244\\035\\213x\\337qh\\224w\\265C\\r\\270Xz`\\252\\265W`rW\\345p_\\177xg\\247f\\254\\251\\326j\\2206QJ\\261\\230M\\3062\\211\\213\\213\\322oab\\274\\351\\000P\\271\\021\\264H@\\377Tl`B\\235\\257\\313\\367\\'E{X<\\313\\243\\321\\266\\240\\274|\\025T\\255\\220F\\220\\216a\\227&7\"\n",
      "        }\n",
      "      }\n",
      "    }\n",
      "  }\n",
      "}\n",
      "\n",
      "context {\n",
      "  feature {\n",
      "    key: \"labels\"\n",
      "    value {\n",
      "      int64_list {\n",
      "        value: 9\n",
      "      }\n",
      "    }\n",
      "  }\n",
      "  feature {\n",
      "    key: \"video_id\"\n",
      "    value {\n",
      "      bytes_list {\n",
      "        value: \"0_pD0p8C93A\"\n",
      "      }\n",
      "    }\n",
      "  }\n",
      "}\n",
      "feature_lists {\n",
      "  feature_list {\n",
      "    key: \"rgb\"\n",
      "    value {\n",
      "      feature {\n",
      "        bytes_list {\n",
      "          value: \"\\000H\\255\\036\\000\\000)!\\307\\204\\307O \\233\\206\\340:\\224I\\377^\\321\\261\\216\\215\\002\\274\\214%up\\271\\205M\\213_r\\333\\\\9\\217\\214\\223\\307\\204\\202\\253\\234\\262o\\301\\231\\236/Ss\\233w\\206lWs\\251Xpa\\265\\230^b\\236\\203^|n;\\240\\213~\\220g\\201\\244\\206_m\\310\\202Od\\300G\\202\\233\\211h\\255}Q\\227\\244\\210\\235\\231\\216\\250\\212_\\244\\251\\206\\221\\201}\\214o\\200in\\240ug\\244\\211\\177|\\226\\220\\221v\\262\\206\\273er^Z\\251\\236\\212\\207ksk\\204\\233\\243ZVRbx\\224}[\\212\\225yhY\\211\\204td\\241\\206\\206bv\\234\\242g`\\207\\207\\241\\240oj\\204`X\\246\\267\\232r\\216~\\214o\\201kk\\207xl\\260vplpp\\203\\215dt}\\210I|\\204\\225\\220\\220|\\212\\204\\200\\200p\\203o\\200\\227yq\\210m|f\\245\\222\\216V\\213\\207\\216utmg\\201m\\227wo~\\223\\211\\227yweq~swm\\214\\251\\230{\\222\\235pP\\177_\\215\\221s\\217\\177u\\211\\206\\251~~\\213\\204Xj\\200\\210gxi\\246|e\\212jrr\\212\\200\\224u\\204\\205ou\\224\\203\\202f\\216\\215l\\230XW\\213\\213\\211\\203i\\210m\\220tp\\236\\177\\204l\\211~\\215{xv\\206\\231{x\\234\\226\\213u\\\\\\223\\203\\214\\212\\212\\206}lpm\\201\\201\\201\\205\\215\\177\\236{\\217\\211~\\\\zcg\\223t\\203\\202\\201\\231\\215\\235\\223_z\\212g\\227\\200\\212d\\220rt\\220y\\213b|z\\206xf\\211z\\214\\177\\202\\234\\234\\204\\220\\223\\211\\207}\\202\\212o\\177vwo\\210l\\241\\241\\206]{s~l~}s\\210\\264\\204~\\203\\177\\202lkm|\\204\\211s\\211\\204\\205]p\\217}\\225\\205\\177\\211d\\200\\211\\201\\205hhm~|\\215|\\200\\201\\204m\\201\\225wrk\\177o~\\204\\200eo\\210\\177\\204\\211\\204\\203\\222xqi\\217z\\205|\\210\\225Q\\217e\\207\\227o\\177\\242yo`|\\203p\\212\\216z\\203wulu\\217n\\205\\207\\213~\\210\\220\\207z\\205gxqt\\212\\205\\212\\210w\\227\\204ln}va\\205\\250\\212\\203\\200ujt}\\224\\210|\\177fyq\\200\\217\\207ukyy\\215q\\223x\\205\\177v\\212\\226\\212\\220\\213\\216\\221\\205\\222\\212\\214\\202s\\200q\\206|\\207z\\202\\224m\\207\\233\\200{\\177k\\177\\210\\221|ootu\\207y\\210z\\215\\207yp\\200n\\204\\222n\\210\\222~n\\216\\206\\202\\214\\201\\204~j\\201l\\207v\\204o\\204m\\223\\201\\202\\213|n\\177\\212z\\223\\177\\242\\177\\226\\220~t\\177\\230tuv\\212pt\\201\\207\\207hf\\211lpjiyw\\211sW\\201\\202w\\204rrb\\221m\\203Z\\206\\213n\\205yq\\177\\242llw\\216{rv\\177\\210\\201|\\216p\\204^\\200\\205\\210\\200\\243}z\\205jw\\234o|y\\206|\\221t\\226\\177\\200\\211ysv\\203s\\177r\\220z\\200urtzu\\211mv\\206\\227zt\\240i\\203\\223}\\223}y{\\177x\\215x\\227bov\\205{rv\\204\\204|\\200|\\177\\217ozxs\\202\\223\\214\\210\\205\\203{\\215\\227}\\217l\\207\\211\\221p\\200\\203\\177v\\177t\\203\\177~s}\\220tn\\204dx\\204xb\\201\\212\\233y\\203r\\215\\205n}z\\203y\\177\\201\\234~\\205\\221\\212}\\210\\203\\213\\221\\220o\\206\\177\\203t~u\\216\\200\\200x\\214f\\200|q\\206m\\207rkxxx\\202x\\217\\207\\216wg\\211\\200\\177\\201q\\207uq}\\200\\202w\\202}t\\202\\177|\\177r\\202\\204\\203vxw\\201i\\210\\212{\\206\\205{q\\204\\204\\202w\\202]{\\213hzn~}\\213\\206r\\200\\203me\\213\\214~\\205\\214{\\222\\201||w\\210~\\216s\\225\\216q\\201\\214r\\213\\210\\203\\234\\215\\210\\177\\201\\203\\177ls\\217\\204v\\200}t\\215\\204\\212\\217\\211qr\\203|\\204vm\\213{\\223\\200\\200\\206yq{\\213p}\\223{\\224\\210\\206\\210\\230\\205\\210~\\216\\207tu\\216w\\211\"\n",
      "        }\n",
      "      }\n",
      "      feature {\n",
      "        bytes_list {\n",
      "          value: \"\\200\\301`\\251O\\216}\\227\\236\\220b\\000\\240k^\\005\\347\\366y\\237\\201\\224L@\\365@\\256\\272P\\2249s\\2637\\314\\254l \\232|\\227\\257q\\\\0\\255hYO\\203\\216\\226\\202\\377\\354P.yA_\\017/\\205v\\305\\330p\\304~\\273\\024\\361\\377\\377\\261\\0225Kt2\\301|\\234\\333\\304+\\230\\217\\313\\r\\214M\\243f\\302ES9\\214\\212H7\\213\\201\\335\\177\\377\\271\\261\\203\\207UOk\\243h\\364\\211S\\235t\\215F\\211\\024\\243PA\\261\\330\\000i\\265\\320\\265\\023T]\\0179\\230y\\267\\266t\\274vl\\000LIgN\\020\\265\\033s\\367(L\\354T\\377\\245\\330\\330\\025=\\252XQU~de\\001h\\235a\\036\\024mg\\262A$\\262\\377\\201I\\314\\377\\377\\377\\247:\\264e\\270^\\203\\231D\\275tY7\\225\\310c]\\\"\\177\\213i\\255\\377\\250\\207cO\\343\\252\\006\\246_N\\313\\313\\035}y\\\\\\000\\000|\\221v\\314\\247IX\\'\\377\\377\\315\\177\\352\\r\\226VF[of\\377\\354\\241M\\207<\\371t\\300n\\177\\177b\\324\\177\\315\\357\\t\\r\\302*T\\225\\242\\325\\377\\222>f\\201\\234\\0310S\\213f\\275\\217\\307\\354V\\377eS\\231\\237\\000\\270\\314s|\\221G\\240P4\\377kU\\207\\253M\\215J\\025\\353I\\314\\312Bh\\377\\213-\\206\\244\\377c\\244\\000\\023\\000\\244Y\\024\\214\\277\\021\\233\\225\\274\\325%\\317o\\222\\205\\256x\\000\\326s\\377h^=\\326\\247u\\210\\317ol6\\206]?R\\211\\343\\215K^X\\013\\3350g\\373]\\310B\\210Vkvfit,\\263\\206:a\\377\\3571\\343\\202%U\\254ux\\353\\225\\377!g\\'\\371N\\277?\\234\\\"1lD^\\215hC\\020\\303\\300\\373\\220?\\244\\377~l,-3$\\030\\267\\023s5\\256y\\010\\000\\377\\302\\204\\026W\\000\\000~XR\\035\\324\\321wq\\252\\225T\\276%5D|\\033m9DgSQ\\224g\\357O\\265\\203\\224#\\326I;mP\\272\\270aI\\342\\232!|\\377\\033^<Z\\']\\247\\273S\\262\\000-}\\210\\352\\363{\\377[\\232\\215\\375\\220\\200\\322\\000\\313ba\\337\\\\\\014\\330\\270Rr\\305\\240w\\214\\202\\236\\205un8\\377\\325\\377e\\202\\377zh\\247>|SJ\\257,\\000\\210\\315}c\\255\\264w\\320\\217w\\203\\312\\210\\370\\233\\306\\325\\020\\354EQ\\247qN\\362\\325\\000\\000f`\\272W{h\\231y\\r\\260\\267\\207\\206uh\\215\\304^\\377!\\000d\\000\\343\\027\\027\\310\\253kb\\265J\\\\\\377\\352\\202j\\277\\276\\027\\025\\242\\301\\212\\247U\\212\\243\\266q\\215\\204\\260\\362d\\221S!\\327T/fM\\205\\000j}\\222=l\\207\\241\\334\\357T\\231\\353\\005\\255|\\200o\\355hID@\\271\\242f>U\\231+\\000\\377\\370z\\3712oE\\203\\227\\210\\253\\233\\310\\367LcgQ\\024\\000l\\2743\\205\\004\\352Z5\\261\\025XJ\\021Hi\\243\\314\\\\A\\266\\377J\\\\\\312\\200\\377\\234}\\334z{\\247\\237=2\\315<<y\\274\\202vShN\\214n\\216\\205\\rhN\\217\\000\\227f\\202U\\270E\\034\\000;\\207\\271\\361\\3042m\\261\\233\\021\\000$\\307N\\307\\366\\226:a\\177\\220KB\\377\\354\\033z\\203\\207\\305\\200\\244\\376-`\\220U\\034}\\000\\000T\\217\\'\\377r\\214l,O\\216\\202O\\317\\000\\215&\\227|G\\022O\\362\\337\\226yo\\230\\304\\233=jn\\177\\237\\3245;\\366\\360\\253\\202`\\232\\036\\377R\\324Z\\231\\337\\305Y\\257\\377`\\260\\377_\\306\\000df\\2133\\274\\026}\\333\\313f*\\367u\\274\\377\\236\\346\\023\\177\\242\\377\\272\\200\\261YDP85azu\\365\\200C\\271zi\\026P\\216=\\377\\365\\026\\276\\000\\330\\377\\370hO\\274=[q:\\327jQC\\240}b\\335\\200\\237\\000\\215\\226e\\000\\270\\312\\220\\272\\306=\\267O\\031\\230p%\\254\\202\\360\\200\\207\\276\\326\\000w}\\213\\237\\343EmJ\\377\\243\\337ZV\\236\\304C\\377\\000\\333\\000BQX\\234\\2320o\\343\\305\\205\\321kT\\2225\\217\\033\\227\\332_\\335li\\313[\\000\\300\\336\\203Yn\\302\\275\\233\\007\\227C\\303e\\240,\"\n",
      "        }\n",
      "      }\n",
      "    }\n",
      "  }\n",
      "}\n",
      "\n"
     ]
    }
   ],
   "source": [
    "# Test to read the changed file.\n",
    "for example in tf.python_io.tf_record_iterator(fram_des): \n",
    "    tf_seq_example = tf.train.SequenceExample.FromString(example)\n",
    "    print tf_seq_example\n",
    "    "
   ]
  },
  {
   "cell_type": "code",
   "execution_count": null,
   "metadata": {
    "collapsed": true
   },
   "outputs": [],
   "source": []
  }
 ],
 "metadata": {
  "kernelspec": {
   "display_name": "Python 2",
   "language": "python",
   "name": "python2"
  },
  "language_info": {
   "codemirror_mode": {
    "name": "ipython",
    "version": 2
   },
   "file_extension": ".py",
   "mimetype": "text/x-python",
   "name": "python",
   "nbconvert_exporter": "python",
   "pygments_lexer": "ipython2",
   "version": "2.7.6"
  }
 },
 "nbformat": 4,
 "nbformat_minor": 0
}
